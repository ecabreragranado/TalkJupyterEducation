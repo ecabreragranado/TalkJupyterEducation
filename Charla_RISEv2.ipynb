{
 "cells": [
  {
   "cell_type": "code",
   "execution_count": 2,
   "metadata": {
    "collapsed": false,
    "extensions": {
     "jupyter_dashboards": {
      "version": 1,
      "views": {
       "grid_default": {
        "col": 0,
        "height": 6,
        "hidden": false,
        "row": 24,
        "width": 4
       },
       "report_default": {}
      }
     }
    },
    "slideshow": {
     "slide_type": "skip"
    }
   },
   "outputs": [
    {
     "data": {
      "text/plain": [
       "{'controls': False,\n",
       " 'font-size': 40,\n",
       " 'history': True,\n",
       " 'progress': True,\n",
       " 'slidenumber': True,\n",
       " 'start_slideshow_at': 'selected',\n",
       " 'theme': 'solarized',\n",
       " 'transition': 'cube',\n",
       " 'width': 1024}"
      ]
     },
     "execution_count": 2,
     "metadata": {},
     "output_type": "execute_result"
    }
   ],
   "source": [
    "from traitlets.config.manager import BaseJSONConfigManager\n",
    "path = \"/home/edu/.jupyter/nbconfig\"\n",
    "cm = BaseJSONConfigManager(config_dir=path)\n",
    "cm.update('livereveal', {\n",
    "              'theme': 'solarized',\n",
    "              'transition': 'cube',\n",
    "              'slidenumber': True,\n",
    "              'width':1024,\n",
    "              'progress': True,\n",
    "              'history': True,\n",
    "              'controls':False,\n",
    "})"
   ]
  },
  {
   "cell_type": "markdown",
   "metadata": {
    "extensions": {
     "jupyter_dashboards": {
      "version": 1,
      "views": {
       "grid_default": {
        "col": 0,
        "height": 17,
        "hidden": false,
        "row": 0,
        "width": 12
       },
       "report_default": {}
      }
     }
    },
    "slideshow": {
     "slide_type": "slide"
    }
   },
   "source": [
    "# Online learning environments for scientific computation based on Jupyter Notebooks\n",
    "\n",
    "<table border:none!important>\n",
    "  <tr>\n",
    "    <td>![logo jupyter](http://cameronoelsen.github.io/jupytersite/assets/main-logo.svg) \n",
    "</td>\n",
    "    <td>![logo jupyterhub](http://cameronoelsen.github.io/jupytersite/assets/hublogo.svg) ![sagemathlogo](https://upload.wikimedia.org/wikipedia/en/thumb/2/24/SageMathCloud_logo.png/280px-SageMathCloud_logo.png)\n",
    "</td>\n",
    "</tr>\n",
    "<tr>\n",
    "<td>\n",
    "\n",
    "</td>\n",
    "  </tr>\n",
    "</table>\n",
    "\n",
    "![ucm logo](https://www.ucm.es/data/cont/media/www/pag-5542/EjemploBlack.png)\n",
    "\n",
    "\n",
    "<center> \n",
    "Author: **Eduardo Cabrera Granado**\n",
    "</center>\n",
    "<center>\n",
    "Optics Department. Universidad Complutense de Madrid. Spain\n",
    "</center>"
   ]
  },
  {
   "cell_type": "markdown",
   "metadata": {
    "extensions": {
     "jupyter_dashboards": {
      "version": 1,
      "views": {
       "grid_default": {
        "col": 4,
        "height": 4,
        "hidden": false,
        "row": 24,
        "width": 4
       },
       "report_default": {}
      }
     }
    },
    "slideshow": {
     "slide_type": "notes"
    }
   },
   "source": [
    "talk about Jupyter-jupyterhub and smc"
   ]
  },
  {
   "cell_type": "markdown",
   "metadata": {
    "extensions": {
     "jupyter_dashboards": {
      "version": 1,
      "views": {
       "grid_default": {
        "col": 0,
        "height": 7,
        "hidden": false,
        "row": 17,
        "width": 7
       },
       "report_default": {}
      }
     }
    },
    "slideshow": {
     "slide_type": "slide"
    }
   },
   "source": [
    "# Outline\n",
    "\n",
    "* Motivation\n",
    "\n",
    "* Jupyter (Ju-lia, Py-thon, R) Notebook. \n",
    "\n",
    "* Multiuser environment: JupyterHub\n",
    "\n",
    "* Course management: NbGrader\n",
    "    \n",
    "* Out-of-the-box solution? -> SageMathCloud\n",
    "\n",
    "* Students opinion?\n",
    " "
   ]
  },
  {
   "cell_type": "markdown",
   "metadata": {
    "extensions": {
     "jupyter_dashboards": {
      "version": 1,
      "views": {
       "grid_default": {
        "col": 7,
        "height": 7,
        "hidden": false,
        "row": 17,
        "width": 5
       },
       "report_default": {}
      }
     }
    },
    "slideshow": {
     "slide_type": "slide"
    }
   },
   "source": [
    "# Motivation\n",
    "-----\n",
    "\n",
    "### New ways of teaching: flipped classrooms, BYD, MOOCs -> Computer assisted learning.\n"
   ]
  },
  {
   "cell_type": "markdown",
   "metadata": {
    "collapsed": true,
    "extensions": {
     "jupyter_dashboards": {
      "version": 1,
      "views": {
       "grid_default": {
        "col": 0,
        "height": 6,
        "hidden": false,
        "row": 30,
        "width": 12
       },
       "report_default": {}
      }
     }
    },
    "slideshow": {
     "slide_type": "fragment"
    }
   },
   "source": [
    "----------\n",
    "\n",
    "###  New problems to be managed by the teacher:\n",
    "\n",
    "   * Installation problems \n",
    "   * Different formats depending on the student\n",
    "   * Powerpoint presentations are too static"
   ]
  },
  {
   "cell_type": "markdown",
   "metadata": {
    "extensions": {
     "jupyter_dashboards": {
      "version": 1,
      "views": {
       "grid_default": {
        "col": 0,
        "height": 5,
        "hidden": false,
        "row": 36,
        "width": 12
       },
       "report_default": {}
      }
     }
    },
    "slideshow": {
     "slide_type": "subslide"
    }
   },
   "source": [
    "# Motivation\n",
    "\n",
    "----\n",
    "\n",
    "### Aim: Optimum environment for scientific courses to focus on learning"
   ]
  },
  {
   "cell_type": "markdown",
   "metadata": {
    "extensions": {
     "jupyter_dashboards": {
      "version": 1,
      "views": {
       "grid_default": {
        "col": 0,
        "height": 8,
        "hidden": false,
        "row": 41,
        "width": 12
       },
       "report_default": {}
      }
     }
    },
    "slideshow": {
     "slide_type": "fragment"
    }
   },
   "source": [
    "### Features:\n",
    "\n",
    " * No installation, easy access -> Online Environment.\n",
    " * Full control of the software installed by the teacher.\n",
    " * Flexible -> Multimedia integration, text, code...\n",
    " * Collaboration between students to allow work on small groups.\n",
    " * Course management (Assignments, Grading...)\n",
    " * Open Source (Just a \"preference\")."
   ]
  },
  {
   "cell_type": "markdown",
   "metadata": {
    "extensions": {
     "jupyter_dashboards": {
      "version": 1,
      "views": {
       "grid_default": {
        "col": 0,
        "height": 24,
        "hidden": false,
        "row": 49,
        "width": 12
       },
       "report_default": {}
      }
     }
    },
    "slideshow": {
     "slide_type": "slide"
    }
   },
   "source": [
    "# Jupyter (Ju-lia, Py-thon, R) Notebook. \n",
    "-----\n",
    "\n",
    "### Web interface to different programming languages (originally Python).\n",
    "\n",
    "   * Try it online: [Demo](https://try.jupyter.org)\n",
    "    \n",
    "   * Allow rich text (markdown), code, pictures, videos, widgets...\n",
    "   * Different kernels: Python, Octave, Julia, R, haskell, ruby, etc.\n",
    "   * *Nbconvert* to generate LaTeX, PDF, slideshows, etc. *Nbviewer* for public static html notebooks\n",
    "--------   \n",
    "### Examples of teaching resources\n",
    "\n",
    "* [A gallery of interesting IPython/Jupyter Notebooks](https://github.com/ipython/ipython/wiki/A-gallery-of-interesting-IPython-Notebooks)\n",
    "\n",
    "* [Single atom-laser](http://nbviewer.jupyter.org/github/jrjohansson/qutip-lectures/blob/master/Lecture-2B-Single-Atom-Lasing.ipynb)\n",
    "\n",
    "* [MOOC on Practical Numerical Methods with Python]( http://openedx.seas.gwu.edu/courses/GW/MAE6286/2014_fall/about)\n",
    "\n",
    "* [Notebook on Fabry Perot Interferometer (Optics)](../ofii/InterferenciaMultiplesOndas.ipynb)\n",
    "   \n",
    "### Extensions. \n",
    "\n",
    "* Example: RISE (this slideshow)\n",
    "\n"
   ]
  },
  {
   "cell_type": "markdown",
   "metadata": {
    "slideshow": {
     "slide_type": "notes"
    }
   },
   "source": [
    "<p align=\"right\">\n",
    "  <img src=\"screenshotjupytersite.jpg\" width=800/>\n",
    "</p>"
   ]
  },
  {
   "cell_type": "markdown",
   "metadata": {
    "extensions": {
     "jupyter_dashboards": {
      "version": 1,
      "views": {
       "grid_default": {
        "col": 0,
        "height": 19,
        "hidden": false,
        "row": 73,
        "width": 12
       },
       "report_default": {}
      }
     }
    },
    "slideshow": {
     "slide_type": "subslide"
    }
   },
   "source": [
    "# Jupyter (Ju-lia, Py-thon, R) Notebook. \n",
    "\n",
    "### How it works\n",
    "\n",
    "![server-client](server_client2.jpg)\n",
    "\n",
    "<div class=alert-success>\n",
    "$\\Rightarrow$ **Remote Access to a Computing Cloud controlled by the teacher**\n",
    "</div>"
   ]
  },
  {
   "cell_type": "markdown",
   "metadata": {
    "extensions": {
     "jupyter_dashboards": {
      "version": 1,
      "views": {
       "grid_default": {
        "col": 0,
        "height": 23,
        "hidden": false,
        "row": 100,
        "width": 12
       },
       "report_default": {}
      }
     }
    },
    "slideshow": {
     "slide_type": "slide"
    }
   },
   "source": [
    "# Multiuser environment: JupyterHub\n",
    "\n",
    "### Features\n",
    "    \n",
    "   * Each student runs its own server: cloud space\n",
    "   * The multiuser server runs in teachers computer (or amazon's cloud, etc)\n",
    "   * Authentication: generate unix users for each student or authenticate via OAuth: GitHub, Google. [Check improved docs](https://jupyterhub.readthedocs.io/en/latest/config-examples.html)\n",
    "   * Security?. That can be an issue (Full terminal access)-> Docker images\n",
    "    \n",
    "![gif jupyterhub](https://657cea1304d5d92ee105-33ee89321dddef28209b83f19f06774f.ssl.cf1.rackcdn.com/jupyterhub-00f39fede1ec8780cdc3163052f632fb6980b72d43a72b3c3650257a6b9ed02d.gif)"
   ]
  },
  {
   "cell_type": "markdown",
   "metadata": {
    "extensions": {
     "jupyter_dashboards": {
      "version": 1,
      "views": {
       "grid_default": {
        "col": 0,
        "height": 22,
        "hidden": false,
        "row": 123,
        "width": 12
       },
       "report_default": {}
      }
     }
    },
    "slideshow": {
     "slide_type": "skip"
    }
   },
   "source": [
    "# Multiuser environment: JupyterHub\n",
    "\n",
    "### Security: Docker Images\n",
    "\n",
    "* Jupyter provides full terminal access to the server computer!\n",
    "\n",
    "* Use specific computer as a server or isolate JupyterHub from your sistem\n",
    "\n",
    "* Docker images ([What is it](https://www.docker.com/what-docker)): \n",
    "\n",
    "    * Containers running on top of the underlying system\n",
    "    * Isolate applications from one another and your system\n",
    "    * Folders in your filesystem can be mounted to provide permanet storage.\n",
    "    * Lighter than VM\n",
    "  <center>  \n",
    " <img src=\"https://www.docker.com/sites/default/files/WhatIsDocker_3_Containers_2_0.png\", width=400 height=200></img>\n",
    "    </center>\n",
    "    \n",
    "\n"
   ]
  },
  {
   "cell_type": "markdown",
   "metadata": {
    "extensions": {
     "jupyter_dashboards": {
      "version": 1,
      "views": {
       "grid_default": {
        "col": 0,
        "height": 15,
        "hidden": false,
        "row": 149,
        "width": 12
       },
       "report_default": {}
      }
     }
    },
    "slideshow": {
     "slide_type": "slide"
    }
   },
   "source": [
    "# Setting up a course: Nbgrader\n",
    "\n",
    "* Nbgrader manages assignment generation, release, student submission, grading and feedback\n",
    "* It can run automatic tests to automate exercise correction and speed up feedback\n",
    "\n",
    "* Instructor and students extensions to manage assignments through the web interface\n",
    "<table border:none!important>\n",
    "  <tr>\n",
    "    <td><img src=\"http://nbgrader.readthedocs.io/en/stable/_images/creating_assignment.gif\" width = 500 alt=\"Instructor toolbar\"></img>\n",
    "</td>\n",
    "    <td><img src=\"http://nbgrader.readthedocs.io/en/stable/_images/student_assignment.gif\" width = 500 alt=\"Instructor toolbar\"></img>\n",
    "</td>\n",
    "</tr>\n",
    "\n",
    "</table>\n",
    "\n",
    "\n",
    "\n",
    "* Try it online: [Demo](https://github.com/jhamrick/nbgrader-demo) (Although usually fails to stablish connection)\n"
   ]
  },
  {
   "cell_type": "markdown",
   "metadata": {
    "extensions": {
     "jupyter_dashboards": {
      "version": 1,
      "views": {
       "grid_default": {
        "col": 0,
        "height": 8,
        "hidden": false,
        "row": 164,
        "width": null
       },
       "report_default": {}
      }
     }
    },
    "slideshow": {
     "slide_type": "subslide"
    }
   },
   "source": [
    "# Setting up a course: Nbgrader\n",
    "\n",
    "\n",
    "* An example: [My course on Introduction to scientific numerical tools in Optics](https://porton.opt.ucm.es)\n",
    "\n",
    "    * 26 students\n",
    "    \n",
    "    * Server: My computer (AMD 8-core, 32 GB RAM).\n",
    "    \n",
    "    * Light notebooks (no resource-demanding tasks) $\\Rightarrow$ Always below 15 GB of RAM\n",
    "    \n",
    "    * 0 problems\n",
    "    \n",
    "    * Run through docker image with [Google Authenticator](https://github.com/jupyterhub/oauthenticator) (UCM accounts)"
   ]
  },
  {
   "cell_type": "markdown",
   "metadata": {
    "extensions": {
     "jupyter_dashboards": {
      "version": 1,
      "views": {
       "grid_default": {
        "col": 0,
        "height": 23,
        "hidden": false,
        "row": 172,
        "width": 12
       },
       "report_default": {}
      }
     }
    },
    "slideshow": {
     "slide_type": "slide"
    }
   },
   "source": [
    "# Out-of-the-box solution: SageMathCloud\n",
    "\n",
    "\n",
    "![sagemathlogo](https://upload.wikimedia.org/wikipedia/en/thumb/2/24/SageMathCloud_logo.png/280px-SageMathCloud_logo.png)\n",
    "\n",
    "\n",
    "*A collaborative web-based interface to Sage, IPython, LaTeX and the Terminal*\n",
    "\n",
    "* Fully functional free accounts (less RAM, disk space and cpu resources than paid accounts) \n",
    "\n",
    "* [100% Open Source](https://github.com/sagemathinc/smc)\n",
    "\n",
    "* Adds collaborative edition to Jupyter Notebooks\n",
    "\n",
    "* Automatic backup of all the files and *Time Travel* between snapshots.\n",
    "\n",
    "* Course management ([Tutorial](https://github.com/mikecroucher/SMC_tutorial))\n",
    "\n",
    "<a href=\"https://cloud.sagemath.com\" rel=\"SMC\"><img src=\"screenshot_smc.png\" width=600 height=300 alt=\"\" /></a>\n"
   ]
  },
  {
   "cell_type": "markdown",
   "metadata": {
    "slideshow": {
     "slide_type": "slide"
    }
   },
   "source": [
    "# Students opinion\n",
    "\n",
    "------\n",
    "\n",
    "### Poll in Electromagnetic Optics and Optical Biomedics Courses\n",
    "\n",
    "\n",
    "* Most of the students think Jupyter Notebook is **easy** to use.\n",
    "\n",
    "* Even more think it is **very useful** in nonprogramming courses.\n",
    "\n",
    "* More or less same results for SMC\n",
    "<center>\n",
    "<img src=\"fig_encuestaalumnos3.svg\" width=400></img>\n",
    "</center>\n"
   ]
  },
  {
   "cell_type": "markdown",
   "metadata": {
    "extensions": {
     "jupyter_dashboards": {
      "version": 1,
      "views": {
       "grid_default": {
        "col": 0,
        "height": 12,
        "hidden": false,
        "row": 195,
        "width": null
       },
       "report_default": {}
      }
     }
    },
    "slideshow": {
     "slide_type": "skip"
    }
   },
   "source": [
    "# Out-of-the-box solution: SageMathCloud\n",
    "\n",
    "### Pros \n",
    "\n",
    "* No setup\n",
    "\n",
    "* *Time travel* very useful for students\n",
    "\n",
    "* No need for a dedicated server\n",
    "\n",
    "\n",
    "### Cons\n",
    "\n",
    "* Stability and fast response $\\Rightarrow$ Paid accounts ![pricingsmc](https://pbs.twimg.com/media/COLoh21UAAAQJ7T.png)\n",
    "* Less control \n",
    "* No NbGrader\n"
   ]
  },
  {
   "cell_type": "markdown",
   "metadata": {
    "extensions": {
     "jupyter_dashboards": {
      "version": 1,
      "views": {
       "grid_default": {
        "col": 0,
        "height": 8,
        "hidden": false,
        "row": 207,
        "width": 12
       },
       "report_default": {}
      }
     }
    },
    "slideshow": {
     "slide_type": "slide"
    }
   },
   "source": [
    "# References and more info\n",
    "\n",
    "* [Jupyter webpage](http://juypyter.org)\n",
    "* [SageMathCloud Help](https://cloud.sagemath.com/help)\n",
    "* [Tutorial on SMC for education](https://github.com/mikecroucher/SMC_tutorial/blob/master/README.md)\n",
    "* [Teaching with Jupyter Forum](https://groups.google.com/forum/#!forum/jupyter-education)\n",
    "* [Docs for JupyterHub](https://jupyterhub.readthedocs.io/en/latest/)\n",
    "* [NbGrader webpage](https://github.com/jupyter/nbgrader)\n"
   ]
  },
  {
   "cell_type": "markdown",
   "metadata": {
    "extensions": {
     "jupyter_dashboards": {
      "version": 1,
      "views": {
       "grid_default": {
        "col": 4,
        "height": 4,
        "hidden": false,
        "row": 145,
        "width": 4
       },
       "report_default": {}
      }
     }
    },
    "slideshow": {
     "slide_type": "slide"
    }
   },
   "source": [
    "# Thanks"
   ]
  }
 ],
 "metadata": {
  "celltoolbar": "Slideshow",
  "extensions": {
   "jupyter_dashboards": {
    "activeView": "grid_default",
    "version": 1,
    "views": {
     "grid_default": {
      "cellMargin": 10,
      "defaultCellHeight": 20,
      "maxColumns": 12,
      "name": "grid",
      "type": "grid"
     },
     "report_default": {
      "name": "report",
      "type": "report"
     }
    }
   }
  },
  "kernelspec": {
   "display_name": "Python 3",
   "language": "python",
   "name": "python3"
  },
  "language_info": {
   "codemirror_mode": {
    "name": "ipython",
    "version": 3
   },
   "file_extension": ".py",
   "mimetype": "text/x-python",
   "name": "python",
   "nbconvert_exporter": "python",
   "pygments_lexer": "ipython3",
   "version": "3.4.5"
  },
  "toc": {
   "toc_cell": true,
   "toc_number_sections": true,
   "toc_threshold": 6,
   "toc_window_display": true
  }
 },
 "nbformat": 4,
 "nbformat_minor": 0
}
